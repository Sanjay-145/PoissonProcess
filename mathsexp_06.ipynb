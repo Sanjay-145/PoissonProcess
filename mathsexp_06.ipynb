{
  "nbformat": 4,
  "nbformat_minor": 0,
  "metadata": {
    "colab": {
      "name": "mathsexp-06",
      "provenance": []
    },
    "kernelspec": {
      "name": "python3",
      "display_name": "Python 3"
    },
    "language_info": {
      "name": "python"
    }
  },
  "cells": [
    {
      "cell_type": "code",
      "execution_count": 5,
      "metadata": {
        "colab": {
          "base_uri": "https://localhost:8080/"
        },
        "id": "HiR5ayBto3bo",
        "outputId": "c1df2a0b-66dd-4107-c043-e899a7fd0eea"
      },
      "outputs": [
        {
          "output_type": "stream",
          "name": "stdout",
          "text": [
            "probability that exactly 4 customers arrive 0.0\n",
            "probability that more than 4 customers arrive 0.97\n",
            " rate of 3 per minute during a time interval of 2 min. 0.03\n"
          ]
        }
      ],
      "source": [
        "import numpy as np\n",
        "import math\n",
        "\n",
        "l=3\n",
        "t=2\n",
        "\n",
        "def p(x):\n",
        "    return round(math.exp(-l*t)*((l*t)*x)/math.factorial(x),2)\n",
        "\n",
        "print(\"probability that exactly 4 customers arrive\",p(4))\n",
        "\n",
        "n=1-(p(0)+p(1)+p(2)+p(3)+p(4))\n",
        "print(\"probability that more than 4 customers arrive\",n)\n",
        "\n",
        "m=p(0)+p(1)+p(2)+p(3)\n",
        "print(\" rate of 3 per minute during a time interval of 2 min.\",m)"
      ]
    }
  ]
}